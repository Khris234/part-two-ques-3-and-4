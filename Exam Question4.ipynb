{
 "cells": [
  {
   "cell_type": "code",
   "execution_count": null,
   "id": "12944b63",
   "metadata": {},
   "outputs": [],
   "source": [
    "groceryItems=[]\n",
    "def enterGoods():\n",
    "    x=input('Enter a grocery Item')\n",
    "    return x\n",
    "\n",
    "def addGrocery(val, mint):\n",
    "    mint.append(val)\n",
    "    return mint\n",
    "\n",
    "def showDisplay(mint):\n",
    "    print('Showing Grocery lis', mint)\n",
    "    addAnotherGrocery()\n",
    "\n",
    "def searchGrocery():\n",
    "    search_grocery=input('Enter grocery item to search')\n",
    "    check=groceryItems.count(search_grocery)\n",
    "    if search_grocery in groceryItems:\n",
    "        \n",
    "        print('Your Grocery item',search_grocery, 'is found', check, 'item(s)')\n",
    "    else:\n",
    "        print('Your Grocery item',search_grocery,'was not found')\n",
    "    showDisplay(r)\n",
    "\n",
    "def addAnotherGrocery():\n",
    "    y=input('Enter A to add | D to show grocery list | S to Search Grocerylist | E to Exit')\n",
    "    if y=='A':\n",
    "        print('Adding grocery')\n",
    "        y=enterGoods()\n",
    "        g=addGrocery(y, groceryItems)\n",
    "        showDisplay(d)\n",
    "    if y=='D':\n",
    "        showDisplay(groceryItems)\n",
    "    elif y=='C':\n",
    "        searchGrocery()\n",
    "    elif y=='Z':\n",
    "        print('Grocery list is out')\n",
    "\n",
    "i=enterGoods()\n",
    "r=addGrocery(i, groceryItems)\n",
    "showDisplay(r)\n",
    "        "
   ]
  }
 ],
 "metadata": {
  "kernelspec": {
   "display_name": "Python 3 (ipykernel)",
   "language": "python",
   "name": "python3"
  },
  "language_info": {
   "codemirror_mode": {
    "name": "ipython",
    "version": 3
   },
   "file_extension": ".py",
   "mimetype": "text/x-python",
   "name": "python",
   "nbconvert_exporter": "python",
   "pygments_lexer": "ipython3",
   "version": "3.11.1"
  }
 },
 "nbformat": 4,
 "nbformat_minor": 5
}
